{
 "cells": [
  {
   "cell_type": "code",
   "execution_count": 9,
   "id": "b2f6b52f",
   "metadata": {},
   "outputs": [
    {
     "name": "stdout",
     "output_type": "stream",
     "text": [
      "No global/local python version has been set yet. Please set the global/local version by typing:\n",
      "pyenv global 3.7.4\n",
      "pyenv local 3.7.4\n"
     ]
    }
   ],
   "source": [
    "# Install required dependencies\n",
    "!pip install -r ../../requirements.txt --quiet"
   ]
  },
  {
   "cell_type": "markdown",
   "id": "1a21e76a",
   "metadata": {},
   "source": [
    "# import library"
   ]
  },
  {
   "cell_type": "code",
   "execution_count": null,
   "id": "ae6c636c",
   "metadata": {},
   "outputs": [],
   "source": []
  },
  {
   "cell_type": "markdown",
   "id": "046b467a",
   "metadata": {},
   "source": [
    "# Autonomous Multi-Agent System Demo\n",
    "\n",
    "This notebook demonstrates the autonomous multi-agent system with Claude Code SDK integration."
   ]
  },
  {
   "cell_type": "code",
   "execution_count": 12,
   "id": "3cf408d8",
   "metadata": {},
   "outputs": [
    {
     "name": "stdout",
     "output_type": "stream",
     "text": [
      "❌ System initialization failed: Claude Code SDK package is required: pip install claude-code-sdk\n",
      "❌ Initialization error: Claude Code SDK package is required: pip install claude-code-sdk\n",
      "Please ensure Claude Code SDK is installed and configured\n"
     ]
    }
   ],
   "source": [
    "# Initialize the autonomous multi-agent system\n",
    "try:\n",
    "    system = await init_autonomous_system()\n",
    "    await system.start_system()\n",
    "    \n",
    "    print(\"🚀 System initialized successfully!\")\n",
    "    print(\"\\n📊 System Status:\")\n",
    "    system.display_system_dashboard()\n",
    "    \n",
    "except Exception as e:\n",
    "    print(f\"❌ Initialization error: {e}\")\n",
    "    print(\"Please ensure Claude Code SDK is installed and configured\")"
   ]
  },
  {
   "cell_type": "markdown",
   "id": "358699ea",
   "metadata": {},
   "source": [
    "## Basic Task Execution Example\n",
    "\n",
    "Execute a simple development task using the multi-agent system:"
   ]
  },
  {
   "cell_type": "code",
   "execution_count": 13,
   "id": "6c3723e3",
   "metadata": {},
   "outputs": [
    {
     "name": "stdout",
     "output_type": "stream",
     "text": [
      "🎯 Executing Task:\n",
      "\n",
      "Create a simple Python calculator application with the following features:\n",
      "- Basic arithmetic operations (add, subtract, multiply, divide)\n",
      "- Command-line interface for user input\n",
      "- Error handling for division by zero\n",
      "- Unit tests using pytest\n",
      "- Clean, well-documented code following PEP 8 standards\n",
      "\n",
      "\n",
      "============================================================\n"
     ]
    },
    {
     "ename": "NameError",
     "evalue": "name 'system' is not defined",
     "output_type": "error",
     "traceback": [
      "\u001b[31m---------------------------------------------------------------------------\u001b[39m",
      "\u001b[31mNameError\u001b[39m                                 Traceback (most recent call last)",
      "\u001b[36mCell\u001b[39m\u001b[36m \u001b[39m\u001b[32mIn[13]\u001b[39m\u001b[32m, line 16\u001b[39m\n\u001b[32m     13\u001b[39m \u001b[38;5;28mprint\u001b[39m(\u001b[33m\"\u001b[39m\u001b[38;5;130;01m\\n\u001b[39;00m\u001b[33m\"\u001b[39m + \u001b[33m\"\u001b[39m\u001b[33m=\u001b[39m\u001b[33m\"\u001b[39m*\u001b[32m60\u001b[39m)\n\u001b[32m     15\u001b[39m \u001b[38;5;66;03m# Submit the task to the multi-agent system\u001b[39;00m\n\u001b[32m---> \u001b[39m\u001b[32m16\u001b[39m \u001b[38;5;28;01mawait\u001b[39;00m \u001b[43msystem\u001b[49m.submit_project_task(task_description)\n\u001b[32m     18\u001b[39m \u001b[38;5;28mprint\u001b[39m(\u001b[33m\"\u001b[39m\u001b[33m📝 Task submitted to project manager for analysis and delegation\u001b[39m\u001b[33m\"\u001b[39m)\n\u001b[32m     19\u001b[39m \u001b[38;5;28mprint\u001b[39m(\u001b[33m\"\u001b[39m\u001b[33m⏳ Agents are working on the task...\u001b[39m\u001b[33m\"\u001b[39m)\n",
      "\u001b[31mNameError\u001b[39m: name 'system' is not defined"
     ]
    }
   ],
   "source": [
    "# Basic task execution example\n",
    "task_description = \"\"\"\n",
    "Create a simple Python calculator application with the following features:\n",
    "- Basic arithmetic operations (add, subtract, multiply, divide)\n",
    "- Command-line interface for user input\n",
    "- Error handling for division by zero\n",
    "- Unit tests using pytest\n",
    "- Clean, well-documented code following PEP 8 standards\n",
    "\"\"\"\n",
    "\n",
    "print(\"🎯 Executing Task:\")\n",
    "print(task_description)\n",
    "print(\"\\n\" + \"=\"*60)\n",
    "\n",
    "# Submit the task to the multi-agent system\n",
    "await system.submit_project_task(task_description)\n",
    "\n",
    "print(\"📝 Task submitted to project manager for analysis and delegation\")\n",
    "print(\"⏳ Agents are working on the task...\")\n",
    "\n",
    "# Wait for task completion (with timeout)\n",
    "start_time = time.time()\n",
    "result = await system.wait_for_completion(timeout_minutes=15)\n",
    "\n",
    "execution_time = (time.time() - start_time) / 60\n",
    "print(f\"\\n⏱️ Task completed in {execution_time:.1f} minutes\")\n",
    "\n",
    "# Display final results\n",
    "print(\"\\n\" + \"=\"*60)\n",
    "print(\"🎉 Task Execution Results\")\n",
    "print(\"=\"*60)\n",
    "system.display_system_dashboard()"
   ]
  }
 ],
 "metadata": {
  "kernelspec": {
   "display_name": "Python 3",
   "language": "python",
   "name": "python3"
  },
  "language_info": {
   "codemirror_mode": {
    "name": "ipython",
    "version": 3
   },
   "file_extension": ".py",
   "mimetype": "text/x-python",
   "name": "python",
   "nbconvert_exporter": "python",
   "pygments_lexer": "ipython3",
   "version": "3.11.6"
  }
 },
 "nbformat": 4,
 "nbformat_minor": 5
}
